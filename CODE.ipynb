{
 "cells": [
  {
   "cell_type": "markdown",
   "metadata": {},
   "source": [
    "For this assignment you'll be looking at 2017 data on immunizations from the CDC. Your datafile for this assignment is in assets/NISPUF17.csv. A data users guide for this, which you'll need to map the variables in the data to the questions being asked, is available at assets/NIS-PUF17-DUG.pdf. Note: you may have to go to your Jupyter tree (click on the Coursera image) and navigate to the assignment 2 assets folder to see this PDF file).\n",
    "\n"
   ]
  },
  {
   "cell_type": "markdown",
   "metadata": {},
   "source": [
    "Write a function called proportion_of_education which returns the proportion of children in the dataset who had a mother with the education levels equal to less than high school (<12), high school (12), more than high school but not a college graduate (>12) and college degree.\n",
    "\n",
    "This function should return a dictionary in the form of (use the correct numbers, do not round numbers):\n",
    "\n",
    "    {\"less than high school\":0.2,\n",
    "    \"high school\":0.4,\n",
    "    \"more than high school but not college\":0.2,\n",
    "    \"college\":0.2}\n"
   ]
  },
  {
   "cell_type": "code",
   "execution_count": 6,
   "metadata": {},
   "outputs": [
    {
     "data": {
      "text/plain": [
       "{'less than high school': 0.10202002459160373,\n",
       " 'high school': 0.172352011241876,\n",
       " 'more than high school but not college': 0.24588090637625154,\n",
       " 'college': 0.47974705779026877}"
      ]
     },
     "execution_count": 6,
     "metadata": {},
     "output_type": "execute_result"
    }
   ],
   "source": [
    "def proportion_of_education():\n",
    "    import pandas as pd\n",
    "    df = pd.read_csv(\"/Users/williamwoodfine/Downloads/Coursera Assignments/Assignment 2/NISPUF17.csv\")\n",
    "    d={}\n",
    "    \n",
    "    new_df= df[df[\"EDUC1\"]==1]\n",
    "    new_df.head()\n",
    "    d[\"less than high school\"]=len(new_df)/len(df)\n",
    "    \n",
    "    new_df= df[df[\"EDUC1\"]==2]\n",
    "    d[\"high school\"]=len(new_df)/len(df)\n",
    "\n",
    "    new_df= df[df[\"EDUC1\"]==3]\n",
    "    d[\"more than high school but not college\"]=len(new_df)/len(df)\n",
    "    \n",
    "    new_df= df[df[\"EDUC1\"]==4]\n",
    "    d[\"college\"]=len(new_df)/len(df)\n",
    "    \n",
    "    return d\n",
    "\n",
    "    raise NotImplementedError()\n",
    "    \n",
    "proportion_of_education()"
   ]
  },
  {
   "cell_type": "markdown",
   "metadata": {},
   "source": [
    "Let's explore the relationship between being fed breastmilk as a child and getting a seasonal influenza vaccine from a healthcare provider. Return a tuple of the average number of influenza vaccines for those children we know received breastmilk as a child and those who know did not.\n",
    "\n",
    "This function should return a tuple in the form (use the correct numbers:\n",
    "\n",
    "(2.5, 0.1)"
   ]
  },
  {
   "cell_type": "code",
   "execution_count": 7,
   "metadata": {},
   "outputs": [
    {
     "data": {
      "text/plain": [
       "(1.8799187420058687, 1.5963945918878317)"
      ]
     },
     "execution_count": 7,
     "metadata": {},
     "output_type": "execute_result"
    }
   ],
   "source": [
    "def average_influenza_doses():\n",
    "    import pandas as pd\n",
    "    df = pd.read_csv(\"/Users/williamwoodfine/Downloads/Coursera Assignments/Assignment 2/NISPUF17.csv\")\n",
    "    df=df[[\"P_NUMFLU\", \"CBF_01\"]].dropna()\n",
    "\n",
    "    breastfeed=df[df[\"CBF_01\"]==1]\n",
    "    yavg= breastfeed[\"P_NUMFLU\"].sum()/len(breastfeed)\n",
    "    \n",
    "    nobreastfeed=df[df[\"CBF_01\"]==2]\n",
    "    navg = nobreastfeed[\"P_NUMFLU\"].sum()/len(nobreastfeed)\n",
    "    \n",
    "    \n",
    "    return (yavg, navg)\n",
    "\n",
    "\n",
    "\n",
    "    raise NotImplementedError()\n",
    "    \n",
    "average_influenza_doses()"
   ]
  },
  {
   "cell_type": "markdown",
   "metadata": {},
   "source": [
    "It would be interesting to see if there is any evidence of a link between vaccine effectiveness and sex of the child. Calculate the ratio of the number of children who contracted chickenpox but were vaccinated against it (at least one varicella dose) versus those who were vaccinated but did not contract chicken pox. Return results by sex.\n",
    "\n",
    "This function should return a dictionary in the form of (use the correct numbers):\n",
    "\n",
    "    {\"male\":0.2,\n",
    "    \"female\":0.4}\n",
    "Note: To aid in verification, the chickenpox_by_sex()['female'] value the autograder is looking for starts with the digits 0.0077.\n",
    "\n"
   ]
  },
  {
   "cell_type": "code",
   "execution_count": 8,
   "metadata": {},
   "outputs": [
    {
     "data": {
      "text/plain": [
       "{'male': 0.009675583380762664, 'female': 0.0077918259335489565}"
      ]
     },
     "execution_count": 8,
     "metadata": {},
     "output_type": "execute_result"
    }
   ],
   "source": [
    "def chickenpox_by_sex():\n",
    "    import pandas as pd\n",
    "    df = pd.read_csv(\"/Users/williamwoodfine/Downloads/Coursera Assignments/Assignment 2/NISPUF17.csv\")\n",
    "    d={}\n",
    "    df= df[[\"SEX\", \"HAD_CPOX\",\"P_NUMVRC\"]].dropna()\n",
    "\n",
    "    males=df[df[\"SEX\"]==1]\n",
    "    withoutcpox = len(males[males[\"P_NUMVRC\"].ge(1) & males[\"HAD_CPOX\"].eq(2)])\n",
    "    withcpox= len(males[males[\"P_NUMVRC\"].ge(1) & males[\"HAD_CPOX\"].eq(1)])\n",
    "    d[\"male\"]=withcpox/withoutcpox\n",
    "\n",
    "    females=df[df[\"SEX\"]==2]\n",
    "    withoutcpox = len(females[females[\"P_NUMVRC\"].ge(1) & females[\"HAD_CPOX\"].eq(2)])\n",
    "    withcpox= len(females[females[\"P_NUMVRC\"].ge(1) & females[\"HAD_CPOX\"].eq(1)])\n",
    "    d[\"female\"]=withcpox/withoutcpox\n",
    "    \n",
    "    return d\n",
    "\n",
    "    raise NotImplementedError()\n",
    "    \n",
    "chickenpox_by_sex()"
   ]
  },
  {
   "cell_type": "markdown",
   "metadata": {},
   "source": [
    "A correlation is a statistical relationship between two variables. If we wanted to know if vaccines work, we might look at the correlation between the use of the vaccine and whether it results in prevention of the infection or disease [1]. In this question, you are to see if there is a correlation between having had the chicken pox and the number of chickenpox vaccine doses given (varicella).\n",
    "\n",
    "Some notes on interpreting the answer. The had_chickenpox_column is either 1 (for yes) or 2 (for no), and the num_chickenpox_vaccine_column is the number of doses a child has been given of the varicella vaccine. A positive correlation (e.g., corr > 0) means that an increase in had_chickenpox_column (which means more no’s) would also increase the values of num_chickenpox_vaccine_column (which means more doses of vaccine). If there is a negative correlation (e.g., corr < 0), it indicates that having had chickenpox is related to an increase in the number of vaccine doses.\n",
    "\n",
    "Also, pval is the probability that we observe a correlation between had_chickenpox_column and num_chickenpox_vaccine_column which is greater than or equal to a particular value occurred by chance. A small pval means that the observed correlation is highly unlikely to occur by chance. In this case, pval should be very small (will end in e-18 indicating a very small number).\n",
    "\n",
    "[1] This isn’t really the full picture, since we are not looking at when the dose was given. It’s possible that children had chickenpox and then their parents went to get them the vaccine. Does this dataset have the data we would need to investigate the timing of the dose?\n",
    "\n"
   ]
  },
  {
   "cell_type": "code",
   "execution_count": 9,
   "metadata": {},
   "outputs": [
    {
     "data": {
      "text/plain": [
       "0.07044873460148"
      ]
     },
     "execution_count": 9,
     "metadata": {},
     "output_type": "execute_result"
    }
   ],
   "source": [
    "def corr_chickenpox():\n",
    "    import scipy.stats as stats\n",
    "    import numpy as np\n",
    "    import pandas as pd\n",
    "    \n",
    "    df = pd.read_csv(\"/Users/williamwoodfine/Downloads/Coursera Assignments/Assignment 2/NISPUF17.csv\")\n",
    "    cpox=df[\"HAD_CPOX\"].replace(77, np.nan).replace(99, np.nan)\n",
    "    vax=df[\"P_NUMVRC\"]\n",
    "    \n",
    "    df=pd.DataFrame([vax,cpox])\n",
    "    df=df.T.dropna()\n",
    "\n",
    "    had_chickenpox_column=df[\"HAD_CPOX\"]\n",
    "    num_chickenpox_vaccine_column = [\"P_NUMVRC\"]\n",
    "    corr, pval=stats.pearsonr(df[\"HAD_CPOX\"],df[\"P_NUMVRC\"])\n",
    "    \n",
    "    return corr\n",
    "\n",
    "    raise NotImplementedError()\n",
    "    \n",
    "corr_chickenpox()"
   ]
  },
  {
   "cell_type": "code",
   "execution_count": null,
   "metadata": {},
   "outputs": [],
   "source": []
  }
 ],
 "metadata": {
  "kernelspec": {
   "display_name": "Python 3",
   "language": "python",
   "name": "python3"
  },
  "language_info": {
   "codemirror_mode": {
    "name": "ipython",
    "version": 3
   },
   "file_extension": ".py",
   "mimetype": "text/x-python",
   "name": "python",
   "nbconvert_exporter": "python",
   "pygments_lexer": "ipython3",
   "version": "3.8.5"
  }
 },
 "nbformat": 4,
 "nbformat_minor": 4
}
